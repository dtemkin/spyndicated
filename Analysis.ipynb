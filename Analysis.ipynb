{
 "cells": [
  {
   "cell_type": "code",
   "execution_count": 1,
   "metadata": {
    "scrolled": true
   },
   "outputs": [
    {
     "name": "stderr",
     "output_type": "stream",
     "text": [
      "/usr/lib/python3.6/site-packages/scipy/sparse/sparsetools.py:20: DeprecationWarning:\n",
      "\n",
      "`scipy.sparse.sparsetools` is deprecated!\n",
      "scipy.sparse.sparsetools is a private module for scipy.sparse, and should not be used.\n",
      "\n"
     ]
    },
    {
     "name": "stdout",
     "output_type": "stream",
     "text": [
      "Number of Blog Entries:  767\n",
      "Number of News Entries:  2864\n"
     ]
    }
   ],
   "source": [
    "from nbcode import Data, TrainingSet, TestingSet, plotting_pkgs\n",
    "from gensim import corpora, models\n",
    "\n",
    "data = Data()\n",
    "print(\"Number of Blog Entries: \", len(data.blog_entries))\n",
    "print(\"Number of News Entries: \", len(data.news_entries))\n",
    "\n",
    "training_set = TrainingSet(data=data, \n",
    "                           max_size=1000)\n",
    "\n",
    "testing_set = TestingSet(data=data,\n",
    "                         max_size=200, \n",
    "                         exclude_ids=training_set.ids)\n"
   ]
  },
  {
   "cell_type": "code",
   "execution_count": 5,
   "metadata": {},
   "outputs": [
    {
     "data": {
      "text/plain": [
       "'file:///home/cmustard/Projects/spyndicated/temp-plot.html'"
      ]
     },
     "execution_count": 5,
     "metadata": {},
     "output_type": "execute_result"
    }
   ],
   "source": [
    "pltdata = [plotting_pkgs.go.Histogram(x=[k for k in data.all_keywords])]\n",
    "pltlayout = \n",
    "plot(pltdata)"
   ]
  },
  {
   "cell_type": "code",
   "execution_count": 3,
   "metadata": {},
   "outputs": [
    {
     "name": "stdout",
     "output_type": "stream",
     "text": [
      "[[(15, 1), (60, 1), (82, 1), (87, 1), (88, 1), (214, 1), (229, 2), (237, 1), (273, 1), (357, 1), (363, 1), (453, 1), (462, 1), (518, 1), (519, 1), (546, 1), (580, 1), (586, 2), (606, 1), (637, 2), (713, 1), (756, 1), (800, 1), (846, 1), (912, 2), (1046, 1), (1386, 1), (1481, 1), (1687, 2), (1703, 1), (1706, 2), (1785, 1), (1787, 1), (1884, 2), (1887, 1), (1894, 1), (2295, 1), (2338, 1), (2462, 1), (2509, 1), (2567, 1), (2822, 1), (2838, 1), (3088, 1), (3112, 1), (3118, 1), (3314, 1), (3342, 1), (3382, 1), (3727, 1), (3776, 1), (4045, 3), (4433, 1), (4883, 1), (5347, 1)], [(96, 1), (244, 1), (274, 1), (339, 1), (477, 1), (498, 1), (688, 1), (1521, 1), (1559, 1), (2096, 1), (3801, 1), (3830, 1), (5492, 1), (6243, 1), (6287, 1), (6564, 1), (6565, 1), (6780, 1), (6781, 1), (6782, 1), (6783, 1), (6784, 1), (6785, 1)], [(503, 1), (906, 1), (1155, 1), (1359, 1), (1421, 1), (3475, 1), (4218, 1)], [(96, 1), (214, 1), (281, 1), (372, 1), (449, 1), (559, 1), (575, 3), (577, 1), (579, 1), (580, 3), (644, 1), (737, 1), (789, 1), (798, 1), (814, 1), (1151, 1), (1250, 1), (1432, 1), (1504, 1), (1656, 2), (1669, 1), (1697, 1), (1837, 1), (1838, 1), (2127, 1), (2347, 1), (2478, 2), (2588, 1), (2725, 1), (3076, 1), (3541, 1), (4622, 1), (5434, 1), (6645, 1)], [(297, 1), (595, 1), (606, 1), (632, 1), (848, 1), (1504, 1), (1637, 2), (1744, 1), (2691, 1), (2740, 1), (3410, 1), (4463, 1), (5842, 1)], [(88, 1), (117, 1), (346, 2), (419, 1), (570, 1), (575, 3), (580, 4), (789, 1), (814, 1), (986, 2), (1252, 1), (1384, 1), (1432, 1), (1455, 2), (1504, 3), (1583, 2), (1674, 1), (1879, 1), (1938, 1), (2535, 1), (2725, 1), (2812, 2), (3204, 1), (6129, 1)], [(15, 1), (42, 1), (49, 1), (54, 1), (68, 1), (174, 1), (385, 1), (546, 1), (604, 1), (656, 1), (675, 1), (694, 1), (723, 1), (778, 3), (797, 3), (888, 1), (1002, 1), (1008, 1), (1038, 1), (1085, 1), (1098, 1), (1127, 1), (1151, 1), (1285, 1), (1289, 1), (1311, 1), (1367, 1), (1384, 2), (1447, 1), (1580, 1), (1617, 1), (1656, 2), (1705, 1), (1852, 1), (2315, 1), (2375, 1), (2431, 1), (2518, 2), (2520, 1), (2701, 1), (2734, 1), (2744, 1), (2752, 2), (2826, 1), (3022, 1), (3096, 1), (3195, 1), (3221, 1), (3238, 1), (3656, 1), (3998, 1), (4263, 1), (4299, 1), (4466, 1), (4691, 1), (4713, 1), (4797, 1), (4798, 1), (4799, 1), (4800, 3), (4801, 1), (4802, 1), (4805, 1), (5025, 1), (6282, 1), (6795, 1), (7237, 2), (7238, 1), (7292, 1)], [(238, 1), (910, 1), (1432, 1), (1656, 1), (1818, 1), (3156, 1), (3530, 1), (3787, 1), (3788, 1), (3789, 1), (3790, 1)], [(407, 1), (448, 1), (500, 1), (657, 1), (896, 1), (977, 1), (1969, 1), (2449, 1), (2452, 1), (2469, 1), (2935, 1), (3096, 1), (5023, 1), (5530, 1), (6983, 1), (7244, 1)], [(99, 1), (436, 1), (519, 1), (727, 1), (783, 1), (915, 1), (997, 1), (1292, 1), (1341, 1), (1687, 1), (1730, 1), (1858, 1), (3820, 1), (5900, 1)]]\n"
     ]
    }
   ],
   "source": [
    "d = corpora.Dictionary([k for k in training_set.keywords[1]])\n",
    "\n",
    "testing_corpus_bows = [d.doc2bow(j) for j in testing_set.keywords[1]]\n",
    "training_corpus_bows = [d.doc2bow(i) for i in training_set.keywords[1]]\n",
    "lda = models.ldamodel.LdaModel(corpus=training_corpus_bows, \n",
    "                               num_topics=20, alpha='auto', id2word = d)\n",
    "\n",
    "print(testing_corpus_bows[:10])"
   ]
  },
  {
   "cell_type": "code",
   "execution_count": 1,
   "metadata": {},
   "outputs": [
    {
     "ename": "NameError",
     "evalue": "name 'testing_corpus_bows' is not defined",
     "output_type": "error",
     "traceback": [
      "\u001b[0;31m---------------------------------------------------------------------------\u001b[0m",
      "\u001b[0;31mNameError\u001b[0m                                 Traceback (most recent call last)",
      "\u001b[0;32m<ipython-input-1-9cc0aa8ad13d>\u001b[0m in \u001b[0;36m<module>\u001b[0;34m()\u001b[0m\n\u001b[1;32m      1\u001b[0m \u001b[0;34m\u001b[0m\u001b[0m\n\u001b[0;32m----> 2\u001b[0;31m \u001b[0mtesting_tops\u001b[0m \u001b[0;34m=\u001b[0m \u001b[0;34m[\u001b[0m\u001b[0mlda\u001b[0m\u001b[0;34m.\u001b[0m\u001b[0mget_document_topics\u001b[0m\u001b[0;34m(\u001b[0m\u001b[0mjbow\u001b[0m\u001b[0;34m)\u001b[0m \u001b[0;32mfor\u001b[0m \u001b[0mjbow\u001b[0m \u001b[0;32min\u001b[0m \u001b[0mtesting_corpus_bows\u001b[0m\u001b[0;34m]\u001b[0m\u001b[0;34m\u001b[0m\u001b[0m\n\u001b[0m\u001b[1;32m      3\u001b[0m \u001b[0mtraining_tops\u001b[0m \u001b[0;34m=\u001b[0m \u001b[0;34m[\u001b[0m\u001b[0mlda\u001b[0m\u001b[0;34m.\u001b[0m\u001b[0mget_document_topics\u001b[0m\u001b[0;34m(\u001b[0m\u001b[0mibow\u001b[0m\u001b[0;34m)\u001b[0m \u001b[0;32mfor\u001b[0m \u001b[0mibow\u001b[0m \u001b[0;32min\u001b[0m \u001b[0mtraining_corpus_bows\u001b[0m\u001b[0;34m]\u001b[0m\u001b[0;34m\u001b[0m\u001b[0m\n\u001b[1;32m      4\u001b[0m \u001b[0mtesting_top_words\u001b[0m \u001b[0;34m=\u001b[0m \u001b[0;34m[\u001b[0m\u001b[0;34m]\u001b[0m\u001b[0;34m\u001b[0m\u001b[0m\n\u001b[1;32m      5\u001b[0m \u001b[0mtraining_top_words\u001b[0m \u001b[0;34m=\u001b[0m \u001b[0;34m[\u001b[0m\u001b[0;34m]\u001b[0m\u001b[0;34m\u001b[0m\u001b[0m\n",
      "\u001b[0;31mNameError\u001b[0m: name 'testing_corpus_bows' is not defined"
     ]
    }
   ],
   "source": [
    "\n",
    "testing_tops = [lda.get_document_topics(jbow) for jbow in testing_corpus_bows]\n",
    "training_tops = [lda.get_document_topics(ibow) for ibow in training_corpus_bows]\n",
    "testing_top_words = []\n",
    "training_top_words = []\n",
    "for tops in testing_tops:\n",
    "    doc_top_words = []\n",
    "    for t in tops:\n",
    "        lda.get_topic_terms()\n",
    "        # lst = [(d.id2token[x[0]], x[1]) for x in lda.get_topic_terms(int(t[0]))]\n",
    "        \n",
    "    \n",
    "\n",
    "        "
   ]
  },
  {
   "cell_type": "code",
   "execution_count": null,
   "metadata": {
    "collapsed": true
   },
   "outputs": [],
   "source": [
    "blogkwds = []\n",
    "blogtags = []\n",
    "blogtopics = []\n",
    "newskwds = []\n",
    "newstags = []\n",
    "newstopics = []\n",
    "\n",
    "for j in range(len(testing_entries)):\n",
    "    ent = testing_entries[j]\n",
    "    for tag in ent['tags']:\n",
    "        tt = []\n",
    "        if type(tag) is list:\n",
    "            tt.append(tag[0])\n",
    "        else:\n",
    "            tt.append(tag)\n",
    "        if len(tt) > 0:\n",
    "            ent.update({\"tags\": tt})\n",
    "        else:\n",
    "            pass\n",
    "        \n",
    "    if ent['is_blog'] == 1:\n",
    "        blogkwds.extend([i for i in ent['kwds']])\n",
    "        blogtags.extend([i.split(\",\")[0] for i in ent['tags']])\n",
    "        blogtopics.extend([i[0] for i in ent['topics']])\n",
    "    else:\n",
    "        newskwds.extend([i for i in ent['kwds']])\n",
    "        newstags.extend([i for i in ent['tags']])\n",
    "        newstopics.extend([i[0] for i in ent['topics']])\n"
   ]
  },
  {
   "cell_type": "code",
   "execution_count": null,
   "metadata": {
    "scrolled": false
   },
   "outputs": [],
   "source": [
    "kwd_layout = go.Layout(barmode='overlay', title='Keyword Probabilities by Source Type')\n",
    "BlogKeywords = go.Histogram(x=blogkwds, name='Blog Keywords', histnorm='probability', opacity=0.75)\n",
    "NewsKeywords = go.Histogram(x=newskwds, name='News Keywords', histnorm='probability', opacity=0.75)\n",
    "kwd_traces = [BlogKeywords, NewsKeywords]\n",
    "kwd_fig = go.Figure(data=kwd_traces, layout=kwd_layout)\n",
    "iplot(kwd_fig)\n",
    "\n",
    "tag_layout = go.Layout(barmode='overlay', title='Tag Frequencies by Source Type')\n",
    "BlogTags = go.Histogram(x=blogtags, name='Blog Tags', opacity=0.75)\n",
    "NewsTags = go.Histogram(x=newstags, name='News Tags', opacity=0.75)\n",
    "tag_traces = [BlogTags, NewsTags]\n",
    "tag_fig = go.Figure(data=tag_traces, layout=tag_layout)\n",
    "iplot(tag_fig)\n",
    "\n",
    "topics_layout = go.Layout(barmode='overlay', title='Topic Probabilities by Source Type')\n",
    "BlogTopics = go.Histogram(x=blogtopics, name='Blog Topics', histnorm='probability', opacity=0.75)\n",
    "NewsTopics = go.Histogram(x=newstopics, name='News Topics', histnorm='probability', opacity=0.75)\n",
    "topics_traces = [BlogTopics, NewsTopics]\n",
    "topics_fig = go.Figure(data=topics_traces, layout=topics_layout)\n",
    "iplot(topics_fig)"
   ]
  },
  {
   "cell_type": "code",
   "execution_count": null,
   "metadata": {
    "collapsed": true
   },
   "outputs": [],
   "source": [
    "from sklearn.linear_model import LogisticRegression\n",
    "\n",
    "\n"
   ]
  }
 ],
 "metadata": {
  "kernelspec": {
   "display_name": "Python 3",
   "language": "python",
   "name": "python3"
  },
  "language_info": {
   "codemirror_mode": {
    "name": "ipython",
    "version": 3
   },
   "file_extension": ".py",
   "mimetype": "text/x-python",
   "name": "python",
   "nbconvert_exporter": "python",
   "pygments_lexer": "ipython3",
   "version": "3.6.4"
  }
 },
 "nbformat": 4,
 "nbformat_minor": 2
}
